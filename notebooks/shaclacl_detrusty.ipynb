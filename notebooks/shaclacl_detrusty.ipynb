{
 "cells": [
  {
   "cell_type": "markdown",
   "id": "d7c83f54",
   "metadata": {},
   "source": [
    "# Demonstration of Querying a Federation of Knowledge Graphs"
   ]
  },
  {
   "cell_type": "code",
   "execution_count": 1,
   "id": "d9f8bb58-3dda-4a0e-a716-d0eb43aa29f3",
   "metadata": {
    "ExecuteTime": {
     "end_time": "2023-05-05T07:53:21.482595827Z",
     "start_time": "2023-05-05T07:53:18.751381875Z"
    }
   },
   "outputs": [],
   "source": [
    "%%capture\n",
    "# Install dependencies\n",
    "!pip install --no-cache-dir -r requirements.txt"
   ]
  },
  {
   "cell_type": "markdown",
   "id": "2f000139",
   "metadata": {},
   "source": [
    "## Description of the Federation of Knowledge Graphs\n",
    "\n",
    "<table>\n",
    "    <tr>\n",
    "        <th style=\"text-align: center\">Knowledge Graph</th>\n",
    "        <th style=\"text-align: center\">Triples</th>\n",
    "        <th style=\"text-align: center\">Classes</th>\n",
    "        <th style=\"text-align: center\">Predicates</th>\n",
    "    </tr>\n",
    "    <tr>\n",
    "        <td>CoyPu Internal Static</td>\n",
    "        <td>691,161,990</td>\n",
    "        <td style=\"text-align: center\">328</td>\n",
    "        <td>5,733</td>\n",
    "    </tr>\n",
    "    <tr>\n",
    "        <td>World Bank</td>\n",
    "        <td>250,097,215</td>\n",
    "        <td style=\"text-align: center\">23</td>\n",
    "        <td>131</td>\n",
    "    </tr>\n",
    "    <tr>\n",
    "        <td>Wikidata</td>\n",
    "        <td>272,348</td>\n",
    "        <td style=\"text-align: center\">Q6256 (countries) only</td>\n",
    "        <td>1,519</td>\n",
    "    </tr>\n",
    "</table>"
   ]
  },
  {
   "cell_type": "markdown",
   "id": "05513b2a",
   "metadata": {},
   "source": [
    "---\n",
    "\n",
    "## Decomposition Types\n",
    "\n",
    "Executing federated queries can be expensive. For example, take a SPARQL query that retrieves the GDP per capita and CO<sub>2</sub> emission per capita of Germany. The GDP and CO<sub>2</sub> emission of Germany can be collected from World Bank while the population can be retrieved from Wikidata. In the following, different decomposition types are explained. For two of them, the query plan for the abovementioned query is shown.\n",
    "\n",
    "<pre>\n",
    "PREFIX wb: &lt;http://worldbank.org/&gt;\n",
    "PREFIX dc: &lt;http://purl.org/dc/elements/1.1/&gt;\n",
    "PREFIX time: &lt;http://www.w3.org/2006/time#&gt;\n",
    "PREFIX wdt: &lt;http://www.wikidata.org/prop/direct/&gt;\n",
    "PREFIX p: &lt;http://www.wikidata.org/prop/&gt;\n",
    "PREFIX ps: &lt;http://www.wikidata.org/prop/statement/&gt;\n",
    "PREFIX pq: &lt;http://www.wikidata.org/prop/qualifier/&gt;\n",
    "PREFIX owl: &lt;http://www.w3.org/2002/07/owl#&gt;\n",
    "PREFIX rdf: &lt;http://www.w3.org/1999/02/22-rdf-syntax-ns#&gt;\n",
    "\n",
    "SELECT ?year (AVG(?value/?population) AS ?gdp_per_capita) (AVG(?value1/?population)*1000000 AS ?carbon_per_capita)\n",
    "WHERE {\n",
    "    ?indicator rdf:type wb:AnnualIndicatorEntry .\n",
    "    ?indicator wb:hasIndicator &lt;http://worldbank.org/Indicator/NY.GDP.MKTP.CD&gt; .\n",
    "    ?indicator wb:hasCountry ?country .\n",
    "    ?indicator owl:hasValue ?gdp .\n",
    "    ?indicator time:year ?year .\n",
    "    ?country dc:identifier 'DEU' .\n",
    "\n",
    "    ?indicator1 rdf:type wb:AnnualIndicatorEntry .\n",
    "    ?indicator1 wb:hasIndicator &lt;http://worldbank.org/Indicator/EN.ATM.CO2E.KT&gt; .\n",
    "    ?indicator1 wb:hasCountry ?country1 .\n",
    "    ?indicator1 owl:hasValue ?value1 .\n",
    "    ?indicator1 time:year ?year .\n",
    "    ?country dc:identifier 'DEU' .\n",
    "\n",
    "    ?countryWiki wdt:P298 'DEU' .\n",
    "    ?countryWiki p:P1082 ?itemP .\n",
    "    ?itemP pq:P585 ?time .\n",
    "    ?itemP ps:P1082 ?population .\n",
    "    BIND(year(?time) AS ?year)\n",
    "}\n",
    "GROUP BY ?year\n",
    "ORDER BY ?year\n",
    "</pre>\n",
    "\n",
    "- __Triple-wise__<br>\n",
    "  Decomposes the query in such a way that each triple pattern becomes its own sub-query. This can be very expensive.<br>![Query Plan SSQ](./images/query_plan_triple.png)<br>\n",
    "- __Exclusive Groups__<br>\n",
    "  Decomposes the query in such a way that each sub-query consists of triple patterns that can be exclusivley answered by one source. Predicates occurring in several sources can have a negative impact on the query plans generated following this type of decomposition.<br>![Query Plan SSQ](./images/query_plan_eg.png)<br>\n",
    "- __Star-shaped Sub-queries__<br>\n",
    "  Decomposes the query in such a way that the triple patterns of each sub-query have the same subject. This mitigates the previously mentioned issue of predicates occurring in several sources since the combination of all predicates belonging to the sub-query is preferred.<br>![Query Plan SSQ](./images/query_plan_ssq.png)<br>\n",
    "- __Combining Star-shaped Sub-queries__<br>\n",
    "  Decomposes the query following the star-shaped sub-query approach but merges sub-queries that can be answered by the same source if they can be joined. This type of decomposition exceeds if the source can perform the join efficiently and joining the sub-queries in the source reduces the size of the intermediate result significantly.<br>![Query Plan SSQ combined](./images/query_plan_ssq-combined.png)"
   ]
  },
  {
   "cell_type": "markdown",
   "id": "8efaa0d6",
   "metadata": {},
   "source": [
    "---\n",
    "\n",
    "## SHACL-ACL: Access Control with SHACL\n",
    "\n",
    "As can be seen from the query plan shown above for the GDP and CO<sub>2</sub> emission, many operations and requests to the knowledge graphs are necessary in order to answer the query. In the case of star-shaped sub-query decomposition, the query is decomposed into seven sub-queries. Each of these sub-queries can be answered by either World Bank or Wikidata as indicated by the colors.\n",
    "\n",
    "### What is SHACL-ACL?\n",
    "\n",
    "SHACL-ACL [\\[10\\]](#10) is a policy-based access control approach capable of controlling the access of SPARQL [\\[1\\]](#1) query execution over RDF [\\[2\\]](#2) knowledge graphs. The access control policies are expressed in SHACL [\\[3\\]](#3).\n",
    "\n",
    "### Why SHACL-ACL?\n",
    "\n",
    "Private data and computational resources on the Web need to be protected against unauthorized access. The _Open Digital Rights Language_ (ODRL) [\\[4\\]](#4) is designed for that purpose. However, the evaluation of ODRL policies is not explained in the specification and, hence, the semantics of different implementations may not be the same. Additionally, only data from the policy or known to the evaluation system can be considered for reaching a conclusion whether the access should be granted or denied. SHACL-ACL relies exclusively on concepts and techniques well-known in the Semantic Web community. Using SHACL to specify the access control policies gives the benefit of a clear semantics for the policy evaluation [\\[5\\]](#5). Furthermore, utilizing the _RDF Mapping Language_ (RML) [\\[6\\]](#6), SHACL-ACL can consider external data during the decision-making process.\n",
    "\n",
    "### How does SHACL-ACL work?\n",
    "\n",
    "When receiving a SPARQL query, SHACL-ACL creates a virtual KG with the data necessary for the policy validation. In order to create said virtual KG, RML mappings are utilized. The access control policies specified in SHACL are then validated against the virtual KG. If the validation result contains at least one violation, the access is denied and an error will be returned. If the virtual KG confirms with the access control policies, i.e., no violations were detected, the access is granted. When the access is granted, the SPARQL query is executed and the query result will be returned.\n",
    "\n",
    "### Demonstration\n",
    "\n",
    "#### Preparation\n",
    "\n",
    "First, the code of SHACL-ACL is imported, and some reoccurring variables are set.\n",
    "SHACL-ACL uses the following tools:\n",
    "  - a modified version of the SDM-RDFizer [\\[7\\]](#7) for collecting JSON data from Web APIs and returning an RDFLib graph (i.e., a virtual KG) instead of generating a file with the RDF triples\n",
    "  - Trav-SHACL [\\[8\\]](#8) for validating the SHACL shape schema\n",
    "  - DeTrusty [\\[9\\]](#9) for executing the SPARQL query if the access is granted"
   ]
  },
  {
   "cell_type": "code",
   "execution_count": 8,
   "id": "1b582bc1",
   "metadata": {},
   "outputs": [],
   "source": [
    "import src.shaclacl as shaclacl\n",
    "SCHEMA_DIR = 'shapes/'\n",
    "SOURCE_DESCRIPTION = 'rdfmts.json'\n",
    "QUERY = 'data/query.rq'"
   ]
  },
  {
   "cell_type": "markdown",
   "id": "1bc097e9",
   "metadata": {},
   "source": [
    "#### Description\n",
    "\n",
    "For this demonstration of SHACL-ACL, a SPARQL query returning the life expectancy of Germany for the last three years should be executed over the data from World Bank. The endpoint containing the World Bank data comprises 250,097,215 RDF triples. However, the following conditions need to be met in order for the access to be granted so that the query can be executed:\n",
    "\n",
    "- The local time, i.e., where the script is executed, needs to be between 7 pm and 6 am.\n",
    "- The local CPU usage must be below 30%.\n",
    "- At least 80% RAM must be available in the local machine.\n",
    "- The current temperature in Hannover (Germany) has to be below 25°C.\n",
    "- The current humidity in Hannover (Germany) has to be at least 75%.\n",
    "\n",
    "#### Use Case 1: Current Data for Policy Validation\n",
    "\n",
    "The following code collects the necessary data for the policy validation. The gathered data is semantified, i.e., transformed into RDF, using the SDM-RDFizer. The virtual KG containing the information for the policies is then validated against a SHACL shape schema encoding above restrictions using Trav-SHACL. In the case that all requirements are met, DeTrusty will execute the query.\n",
    "\n",
    "__Note:__ It is very likely that the current conditions violate at least one of the constraints."
   ]
  },
  {
   "cell_type": "code",
   "execution_count": 9,
   "id": "3cc779ad",
   "metadata": {},
   "outputs": [
    {
     "name": "stdout",
     "output_type": "stream",
     "text": [
      "Beginning Knowledge Graph Creation Process.\n",
      "The Process has ended.\n",
      "Total execution time:  6  ms\n"
     ]
    },
    {
     "data": {
      "text/plain": [
       "{'error': 'Access denied! Query not executed!'}"
      ]
     },
     "execution_count": 9,
     "metadata": {},
     "output_type": "execute_result"
    }
   ],
   "source": [
    "# Let us get the current condition of the machine and store them in a CSV file\n",
    "shaclacl.get_machine_condition()\n",
    "\n",
    "# Semantify the data necessary for policy validation, generate virtual KG\n",
    "virtual_kg = shaclacl.semantify_data('config/config_rdfizer.ini')\n",
    "\n",
    "# Validate the policies over the virtual KG, check access, execute query\n",
    "result_current = shaclacl.query_with_access_control(virtual_kg, QUERY, SOURCE_DESCRIPTION, SCHEMA_DIR)\n",
    "if 'error' not in result_current:\n",
    "    result_current = shaclacl.query_result_to_dataframe(result_current)\n",
    "result_current"
   ]
  },
  {
   "cell_type": "markdown",
   "id": "a9b54425",
   "metadata": {},
   "source": [
    "#### Use Case 2: Invalid Data for Policy Validation\n",
    "\n",
    "For this part of the demonstration we provide a KG for the policy validation that violates the access control policies. The table below shows the data used for the policy validation; violations are marked in red.<br><br>\n",
    "\n",
    "<table>\n",
    "  <tr>\n",
    "    <th>Time (24h)</th>\n",
    "    <th>CPU Usage (%)</th>\n",
    "    <th>RAM Free (%)</th>\n",
    "    <th>Temperature (°C)</th>\n",
    "    <th>Humidity (%)</th>\n",
    "  </tr>\n",
    "  <tr>\n",
    "    <td style=\"text-align: center; color: red;\">09:09:09</td>\n",
    "    <td style=\"text-align: center;\">0.4</td>\n",
    "    <td style=\"text-align: center; color: red;\">50.50</td>\n",
    "    <td style=\"text-align: center;\">0.6</td>\n",
    "    <td style=\"text-align: center;\">99</td>\n",
    "  <tr>\n",
    "</table>"
   ]
  },
  {
   "cell_type": "code",
   "execution_count": 10,
   "id": "06557253",
   "metadata": {},
   "outputs": [
    {
     "name": "stdout",
     "output_type": "stream",
     "text": [
      "Total execution time:  11  ms\n"
     ]
    },
    {
     "data": {
      "text/plain": [
       "{'error': 'Access denied! Query not executed!'}"
      ]
     },
     "execution_count": 10,
     "metadata": {},
     "output_type": "execute_result"
    }
   ],
   "source": [
    "# Load the invalid KG\n",
    "kg_invalid = shaclacl.graph_from_file('data/kg_invalid.ttl')\n",
    "\n",
    "# Validate the policies over the invalid KG, check access, deny and return without executing the query\n",
    "query_result = shaclacl.query_with_access_control(kg_invalid, QUERY, SOURCE_DESCRIPTION, SCHEMA_DIR)\n",
    "query_result"
   ]
  },
  {
   "cell_type": "markdown",
   "id": "4752e1c6",
   "metadata": {},
   "source": [
    "#### Use Case 3: Valid Data for Policy Validation\n",
    "\n",
    "Finally, we want to demonstrate the execution of the SPARQL query in the case that all the requirements are met. For this purpose, we provide a KG for the policy validation that is valid. The table below shows the data used for the policy validation in this case.<br><br>\n",
    "\n",
    "<table>\n",
    "  <tr>\n",
    "    <th>Time (24h)</th>\n",
    "    <th>CPU Usage (%)</th>\n",
    "    <th>RAM Free (%)</th>\n",
    "    <th>Temperature (°C)</th>\n",
    "    <th>Humidity (%)</th>\n",
    "  </tr>\n",
    "  <tr>\n",
    "    <td style=\"text-align: center;\">20:15:36</td>\n",
    "    <td style=\"text-align: center;\">20.5</td>\n",
    "    <td style=\"text-align: center;\">86.21</td>\n",
    "    <td style=\"text-align: center;\">9.1</td>\n",
    "    <td style=\"text-align: center;\">87</td>\n",
    "  <tr>\n",
    "</table>"
   ]
  },
  {
   "cell_type": "code",
   "execution_count": 11,
   "id": "71772399",
   "metadata": {},
   "outputs": [
    {
     "name": "stdout",
     "output_type": "stream",
     "text": [
      "Total execution time:  23  ms\n"
     ]
    },
    {
     "name": "stderr",
     "output_type": "stream",
     "text": [
      "2024-03-21 16:21:57,270 - DeTrusty.Wrapper.RDFWrapper - INFO - Contacting endpoint: https://labs.tib.eu/sdm/worldbank_endpoint/sparql\n"
     ]
    },
    {
     "data": {
      "text/html": [
       "<div>\n",
       "<style scoped>\n",
       "    .dataframe tbody tr th:only-of-type {\n",
       "        vertical-align: middle;\n",
       "    }\n",
       "\n",
       "    .dataframe tbody tr th {\n",
       "        vertical-align: top;\n",
       "    }\n",
       "\n",
       "    .dataframe thead th {\n",
       "        text-align: right;\n",
       "    }\n",
       "</style>\n",
       "<table border=\"1\" class=\"dataframe\">\n",
       "  <thead>\n",
       "    <tr style=\"text-align: right;\">\n",
       "      <th></th>\n",
       "      <th>year</th>\n",
       "      <th>life_exp</th>\n",
       "    </tr>\n",
       "  </thead>\n",
       "  <tbody>\n",
       "    <tr>\n",
       "      <th>0</th>\n",
       "      <td>2020</td>\n",
       "      <td>80.9415</td>\n",
       "    </tr>\n",
       "    <tr>\n",
       "      <th>1</th>\n",
       "      <td>2019</td>\n",
       "      <td>81.2927</td>\n",
       "    </tr>\n",
       "    <tr>\n",
       "      <th>2</th>\n",
       "      <td>2018</td>\n",
       "      <td>80.8927</td>\n",
       "    </tr>\n",
       "  </tbody>\n",
       "</table>\n",
       "</div>"
      ],
      "text/plain": [
       "   year life_exp\n",
       "0  2020  80.9415\n",
       "1  2019  81.2927\n",
       "2  2018  80.8927"
      ]
     },
     "execution_count": 11,
     "metadata": {},
     "output_type": "execute_result"
    }
   ],
   "source": [
    "# Load the valid KG\n",
    "kg_valid = shaclacl.graph_from_file('data/kg_valid.ttl')\n",
    "\n",
    "# Validate the policies over the invalid KG, check access, execute the query\n",
    "query_result = shaclacl.query_with_access_control(kg_valid, QUERY, SOURCE_DESCRIPTION, SCHEMA_DIR)\n",
    "shaclacl.query_result_to_dataframe(query_result)"
   ]
  },
  {
   "cell_type": "markdown",
   "id": "4d40b092",
   "metadata": {},
   "source": [
    "As can be seen, the access is granted and the query is executed. DeTrusty returns the query result which is shown above.\n",
    "\n",
    "### Conclusion\n",
    "\n",
    "The demonstration of SHACL-ACL shows that access control policies can be implemented in SHACL. Additionally, the use of a virtual KG generated by the SDM-RDFizer allows to gather external data to be considered during the policy evaluation. A benefit of SHACL-ACL is that it only relies on widespread concepts that are well-known within the Semantic Web community, i.e., RDF, RML, SPARQL, and SHACL."
   ]
  },
  {
   "cell_type": "markdown",
   "id": "dc1fa224",
   "metadata": {},
   "source": [
    "---\n",
    "\n",
    "## DeTrusty: A Federated Query Engine"
   ]
  },
  {
   "cell_type": "code",
   "execution_count": 34,
   "id": "440fae8e-327f-4059-8162-20869b2bc8b6",
   "metadata": {
    "scrolled": true
   },
   "outputs": [],
   "source": [
    "from DeTrusty import run_query\n",
    "from DeTrusty.Molecule.MTManager import ConfigFile\n",
    "from tabulate import tabulate\n",
    "import matplotlib.pyplot as plt\n",
    "import numpy as np\n",
    "\n",
    "config = ConfigFile('rdfmts.json')"
   ]
  },
  {
   "cell_type": "markdown",
   "id": "1d44d55e",
   "metadata": {},
   "source": [
    "### Query 1: Life expectancy for all countries in 2017 as reported by World Bank and Wikidata"
   ]
  },
  {
   "cell_type": "code",
   "execution_count": 35,
   "id": "796ccd0d-2114-45a8-8e4b-a7e3c1f76781",
   "metadata": {},
   "outputs": [
    {
     "name": "stderr",
     "output_type": "stream",
     "text": [
      "2024-03-21 16:37:47,905 - DeTrusty.Wrapper.RDFWrapper - INFO - Contacting endpoint: https://query.wikidata.org/sparql\n",
      "2024-03-21 16:37:47,915 - DeTrusty.Wrapper.RDFWrapper - INFO - Contacting endpoint: https://labs.tib.eu/sdm/worldbank_endpoint/sparql\n"
     ]
    },
    {
     "name": "stdout",
     "output_type": "stream",
     "text": [
      "Country Code    Country Name            Year    Life Expectancy by World Bank    Life Expectancy by Wikidata\n",
      "--------------  --------------------  ------  -------------------------------  -----------------------------\n",
      "PHL             Philippines             2017                          70.952                         70.952\n",
      "NOR             Norway                  2017                          82.6098                        82.5098\n",
      "ISR             Israel                  2017                          82.5512                        82.6\n",
      "IRN             Iran, Islamic Rep.      2017                          76.271                         76.27\n",
      "IDN             Indonesia               2017                          71.282                         71.3355\n",
      "HKG             Hong Kong SAR, China    2017                          84.6805                        85\n",
      "ESP             Spain                   2017                          83.2829                        83.33\n",
      "DEU             Germany                 2017                          80.9927                        80.8667\n",
      "CZE             Czech Republic          2017                          78.9781                        79.4756\n",
      "CZE             Czechia                 2017                          78.9781                        79.4756\n",
      "CHL             Chile                   2017                          79.909                         80\n",
      "BRA             Brazil                  2017                          75.456                         75.723\n",
      "BEL             Belgium                 2017                          81.4927                        81.36\n"
     ]
    },
    {
     "data": {
      "image/png": "[encoded data removed]",
      "text/plain": [
       "<Figure size 432x288 with 1 Axes>"
      ]
     },
     "metadata": {
      "needs_background": "light"
     },
     "output_type": "display_data"
    }
   ],
   "source": [
    "query = \"\"\"\n",
    "PREFIX wb: <http://worldbank.org/>\n",
    "PREFIX owl: <http://www.w3.org/2002/07/owl#>\n",
    "PREFIX time: <http://www.w3.org/2006/time#>\n",
    "PREFIX p: <http://www.wikidata.org/prop/>\n",
    "PREFIX ps: <http://www.wikidata.org/prop/statement/>\n",
    "PREFIX pq: <http://www.wikidata.org/prop/qualifier/>\n",
    "PREFIX dc: <http://purl.org/dc/elements/1.1/>\n",
    "PREFIX rdfs: <http://www.w3.org/2000/01/rdf-schema#>\n",
    "\n",
    "SELECT DISTINCT ?country_code ?country_name ?year (AVG(?year_exp_WB) AS ?exp_wb) (AVG(?year_exp) AS ?exp_wiki)\n",
    "WHERE {\n",
    "    ?country a wb:Country .\n",
    "    ?country dc:identifier ?country_code .\n",
    "    ?country rdfs:label ?country_name.\n",
    "    ?country owl:sameAs ?sameAsCountry .\n",
    "    ?country wb:hasAnnualIndicatorEntry ?annualIndicator .\n",
    "    ?annualIndicator wb:hasIndicator <http://worldbank.org/Indicator/SP.DYN.LE00.IN> .\n",
    "    ?annualIndicator owl:hasValue ?year_exp_WB .\n",
    "    ?annualIndicator time:year ?year .\n",
    "  \n",
    "    ?sameAsCountry p:P2250 ?itemLifeExpectancy .\n",
    "    ?itemLifeExpectancy ps:P2250 ?year_exp .\n",
    "    ?itemLifeExpectancy pq:P585 ?time .\n",
    "    BIND(year(?time) AS ?year)\n",
    "    FILTER(?year=2017)\n",
    "}\n",
    "GROUP BY ?country_code ?country_name ?year\n",
    "ORDER BY ?country_code\n",
    "\"\"\"\n",
    "query_result = run_query(query, config=config, join_stars_locally=False)  # executing query with DeTrusty\n",
    "\n",
    "data = []\n",
    "labels = []\n",
    "wb = []\n",
    "wikidata = []\n",
    "headers = [\"Country Code\",\"Country Name\",\"Year\",\"Life Expectancy by World Bank\",\"Life Expectancy by Wikidata\"]\n",
    "for row in query_result['results']['bindings']:\n",
    "    data.append([row['country_code']['value'],row['country_name']['value'],row['year']['value'],row['exp_wb']['value'],row['exp_wiki']['value']])\n",
    "    labels.append(row['country_name']['value'])\n",
    "    wb.append(float(row['exp_wb']['value']))\n",
    "    wikidata.append(float(row['exp_wiki']['value']))\n",
    "print(tabulate(data, headers=headers))\n",
    "\n",
    "x = np.arange(len(labels))\n",
    "width = 0.5  \n",
    "fig, ax = plt.subplots()\n",
    "rects1 = ax.bar(2*x - width/2, wb, width, label='World Bank', color=[\"#EA7AF4\"])\n",
    "rects2 = ax.bar(2*x + width/2, wikidata, width, label='Wikidata', color=[\"#B43E8F\"])\n",
    "ax.set_ylabel('Life Expentancy')\n",
    "ax.set_xlabel('Countries')\n",
    "ax.set_xticks(2*x, labels, rotation=90)\n",
    "#ax.set_yticks([0.0,0.5,1.0,1.5,2.0,2.5,3.0,3.5,4.0,4.5,5.0], [\"0.0\",\"0.5\",\"1.0\",\"1.5\",\"2.0\",\"2.5\",\"3.0\",\"3.5\",\"4.0\",\"4.5\",\"TimeOut\"])\n",
    "ax.set_ylim(0,90)\n",
    "ax.legend(loc=8)\n",
    "fig.tight_layout()\n",
    "\n",
    "plt.show()"
   ]
  },
  {
   "cell_type": "markdown",
   "id": "0ec8fb04",
   "metadata": {},
   "source": [
    "### Query 2: Number of conflicts and fatalities per million per year in Ukraine"
   ]
  },
  {
   "cell_type": "code",
   "execution_count": 36,
   "id": "dbd60024-827e-4499-8c54-8d6c702e3b25",
   "metadata": {},
   "outputs": [
    {
     "name": "stderr",
     "output_type": "stream",
     "text": [
      "2024-03-21 16:37:53,800 - DeTrusty.Wrapper.RDFWrapper - INFO - Contacting endpoint: https://query.wikidata.org/sparql\n",
      "2024-03-21 16:37:53,808 - DeTrusty.Wrapper.RDFWrapper - INFO - Contacting endpoint: https://skynet.coypu.org/coypu-internal\n"
     ]
    },
    {
     "name": "stdout",
     "output_type": "stream",
     "text": [
      "  Year    Number of Events    Fatalities per Million\n",
      "------  ------------------  ------------------------\n",
      "  2022               40488                   801.145\n"
     ]
    },
    {
     "data": {
      "image/png": "[encoded data removed]",
      "text/plain": [
       "<Figure size 432x288 with 1 Axes>"
      ]
     },
     "metadata": {
      "needs_background": "light"
     },
     "output_type": "display_data"
    },
    {
     "data": {
      "image/png": "[encoded data removed]",
      "text/plain": [
       "<Figure size 432x288 with 1 Axes>"
      ]
     },
     "metadata": {
      "needs_background": "light"
     },
     "output_type": "display_data"
    }
   ],
   "source": [
    "query = \"\"\"\n",
    "PREFIX coy: <https://schema.coypu.org/global#>\n",
    "PREFIX wdt: <http://www.wikidata.org/prop/direct/>\n",
    "PREFIX p: <http://www.wikidata.org/prop/>\n",
    "PREFIX ps: <http://www.wikidata.org/prop/statement/>\n",
    "PREFIX pq: <http://www.wikidata.org/prop/qualifier/>\n",
    "\n",
    "SELECT ?year (COUNT(?iri) AS ?no_of_events)  ((SUM(?fatalities)/AVG(?population))*1000000 AS ?fatalities_per_million)\n",
    "WHERE {\n",
    "    ?iri a coy:Conflict .\n",
    "    ?iri coy:hasCountryLocation ?code_uri .\n",
    "    ?code_uri coy:hasIsoCode 'UKR' .\n",
    "    ?iri coy:hasTimestamp ?timestamp .\n",
    "    ?iri coy:hasFatalities ?fatalities .\n",
    "    BIND(year(?timestamp) as ?year)\n",
    "    \n",
    "    ?countryWiki wdt:P298 'UKR' .\n",
    "    ?countryWiki p:P1082 ?itemP .\n",
    "    ?itemP pq:P585 ?time .\n",
    "    ?itemP ps:P1082 ?population .\n",
    "    BIND(year(?time) as ?year)\n",
    "}\n",
    "GROUP BY ?year\n",
    "ORDER BY ?year\n",
    "\"\"\"\n",
    "query_result = run_query(query, config=config, join_stars_locally=False)  # executing query with DeTrusty\n",
    "\n",
    "data = []\n",
    "labels = []\n",
    "events = []\n",
    "fatalities = []\n",
    "headers = [\"Year\",\"Number of Events\",\"Fatalities per Million\"]\n",
    "for row in query_result['results']['bindings']:\n",
    "    data.append([row['year']['value'],row['no_of_events']['value'],row['fatalities_per_million']['value']])\n",
    "    labels.insert(0,row['year']['value'])\n",
    "    events.insert(0,int(row['no_of_events']['value']))\n",
    "    fatalities.insert(0,float(row['fatalities_per_million']['value']))\n",
    "print(tabulate(data, headers=headers))\n",
    "plt.bar(labels, events, color=[\"#EA7AF4\"])\n",
    "plt.xlabel(\"Years\")\n",
    "plt.ylabel(\"Number of Events\")\n",
    "plt.show()\n",
    "plt.bar(labels, np.log10(fatalities), color=[\"#B43E8F\"])\n",
    "plt.xlabel(\"Years\")\n",
    "plt.ylabel(\"Fatalities per Million (log(x))\")\n",
    "plt.show()"
   ]
  },
  {
   "cell_type": "markdown",
   "id": "c6ce4d89",
   "metadata": {},
   "source": [
    "### Query 3: GDP per capita and carbon emission per capita for Germany per year"
   ]
  },
  {
   "cell_type": "code",
   "execution_count": 37,
   "id": "9b62ac44-0eae-4c06-939d-cfd1ea93faea",
   "metadata": {},
   "outputs": [
    {
     "name": "stderr",
     "output_type": "stream",
     "text": [
      "2024-03-21 16:39:35,738 - DeTrusty.Wrapper.RDFWrapper - INFO - Contacting endpoint: https://labs.tib.eu/sdm/worldbank_endpoint/sparql\n",
      "2024-03-21 16:39:38,529 - DeTrusty.Wrapper.RDFWrapper - INFO - Contacting endpoint: https://query.wikidata.org/sparql\n",
      "2024-03-21 16:39:41,203 - DeTrusty.Wrapper.RDFWrapper - INFO - Contacting endpoint: https://query.wikidata.org/sparql\n"
     ]
    },
    {
     "name": "stdout",
     "output_type": "stream",
     "text": [
      "  Year    GDP per Capita [US$]    Carbon per Capita [kg]\n",
      "------  ----------------------  ------------------------\n",
      "  2019                 46763.2                  16274\n",
      "  2018                 47931.2                  16203.1\n",
      "  2017                 44632.1                  15843.1\n",
      "  2016                 42047.8                  15580.7\n",
      "  2015                 41080.7                  15685.4\n",
      "  2014                 47964                    15904.6\n",
      "  2012                 43815.4                  15598.2\n",
      "  2010                 41585.2                  14490.2\n",
      "  2008                 45672.8                  13600.9\n",
      "  2006                 36381                    12816.6\n",
      "  2004                 34112.9                  11745.5\n",
      "  2002                 25182.4                  10559.7\n",
      "  2000                 23680.8                  10225.9\n",
      "  1998                 27292.4                   9938.92\n",
      "  1996                 30449.7                   9687.01\n",
      "  1994                 27043.1                   9261.78\n",
      "  1992                 26323.8                   9257.3\n",
      "  1990                 22214.5                   9525.19\n"
     ]
    },
    {
     "data": {
      "image/png": "[encoded data removed]",
      "text/plain": [
       "<Figure size 432x288 with 1 Axes>"
      ]
     },
     "metadata": {
      "needs_background": "light"
     },
     "output_type": "display_data"
    }
   ],
   "source": [
    "query = \"\"\"\n",
    "PREFIX wb: <http://worldbank.org/>\n",
    "PREFIX time: <http://www.w3.org/2006/time#>\n",
    "PREFIX wdt: <http://www.wikidata.org/prop/direct/>\n",
    "PREFIX p: <http://www.wikidata.org/prop/>\n",
    "PREFIX ps: <http://www.wikidata.org/prop/statement/>\n",
    "PREFIX pq: <http://www.wikidata.org/prop/qualifier/>\n",
    "PREFIX owl: <http://www.w3.org/2002/07/owl#>\n",
    "\n",
    "SELECT ?year (AVG(?value/?population) AS ?gdp_per_capita) (AVG(?value1/?population)*1000000 AS ?carbon_per_capita)\n",
    "WHERE {\n",
    "    ?indicator a wb:AnnualIndicatorEntry .\n",
    "    ?indicator wb:hasIndicator <http://worldbank.org/Indicator/NY.GDP.MKTP.CD> .\n",
    "    ?indicator wb:hasCountry ?country .\n",
    "    ?indicator owl:hasValue ?value .\n",
    "    ?indicator time:year ?year .\n",
    "    ?country <http://purl.org/dc/elements/1.1/identifier> 'DEU' .\n",
    "    \n",
    "    ?indicator1 a wb:AnnualIndicatorEntry .\n",
    "    ?indicator1 wb:hasIndicator <http://worldbank.org/Indicator/EN.ATM.CO2E.KT> .\n",
    "    ?indicator1 wb:hasCountry ?country1 .\n",
    "    ?indicator1 owl:hasValue ?value1 .\n",
    "    ?indicator1 time:year ?year .\n",
    "    ?country <http://purl.org/dc/elements/1.1/identifier> 'DEU' .   \n",
    "    \n",
    "    ?countryWiki wdt:P298 'DEU' .\n",
    "    ?countryWiki p:P1082 ?itemP .\n",
    "    ?itemP pq:P585 ?time.\n",
    "    ?itemP ps:P1082 ?population .\n",
    "    BIND(year(?time) AS ?year)\n",
    "}\n",
    "GROUP BY ?year\n",
    "ORDER BY ?year\n",
    "\"\"\"\n",
    "query_result = run_query(query, config=config, join_stars_locally=False)  #executing query with DeTrusty\n",
    "\n",
    "data = []\n",
    "labels = []\n",
    "gdp = []\n",
    "carbon = []\n",
    "headers = [\"Year\",\"GDP per Capita [US$]\",\"Carbon per Capita [kg]\"]\n",
    "for row in query_result['results']['bindings']:\n",
    "    data.append([row['year']['value'],row['gdp_per_capita']['value'],row['carbon_per_capita']['value']])\n",
    "    labels.insert(0,int(row['year']['value']))\n",
    "    gdp.insert(0,float(row['gdp_per_capita']['value']))\n",
    "    carbon.insert(0,float(row['carbon_per_capita']['value']))\n",
    "print(tabulate(data, headers=headers))\n",
    "\n",
    "plt.plot(labels, gdp, label='GDP', color=\"#EA7AF4\")\n",
    "plt.plot(labels, carbon, label='Carbon', color=\"#B43E8F\")\n",
    "\n",
    "plt.xlabel('Years')\n",
    "plt.ylabel('Values per Capita')\n",
    "\n",
    "plt.legend()\n",
    "\n",
    "plt.show()"
   ]
  },
  {
   "cell_type": "markdown",
   "id": "d317e6a5",
   "metadata": {},
   "source": [
    "---\n",
    "\n",
    "## References\n",
    "\n",
    "<a name=\"1\">\\[1\\]</a> SPARQL Specification. 2008. URL: [https://www.w3.org/TR/2008/REC-rdf-sparql-query-20080115/](https://www.w3.org/TR/2008/REC-rdf-sparql-query-20080115/).\n",
    "\n",
    "<a name=\"2\">\\[2\\]</a> RDF Specification. 2004. URL: [https://www.w3.org/TR/2004/REC-rdf-primer-20040210/](https://www.w3.org/TR/2004/REC-rdf-primer-20040210/).\n",
    "\n",
    "<a name=\"3\">\\[3\\]</a> SHACL Specification. 2017. URL: [https://www.w3.org/TR/2017/REC-shacl-20170720/](https://www.w3.org/TR/2017/REC-shacl-20170720/).\n",
    "\n",
    "<a name=\"4\">\\[4\\]</a> ODRL Specification. 2018. URL: [https://www.w3.org/TR/2018/REC-odrl-model-20180215/](https://www.w3.org/TR/2018/REC-odrl-model-20180215/).\n",
    "\n",
    "<a name=\"5\">\\[5\\]</a> J. Corman, J.L. Reutter, O. Savković. Semantics and Validation of Recursive SHACL. In: The Semantic Web – ISWC 2018, Springer, Cham, Switzerland, 2018. DOI: [10.1007/978-3-030-00671-6_19](https://doi.org/10.1007/978-3-030-00671-6_19).\n",
    "\n",
    "<a name=\"6\">\\[6\\]</a> A. Dimou, M. Vander Sande, P. Colpaert, R. Verborgh, E. Mannes, R. Van de Walle. RML: A Generic Language for Integrated RDF Mappings of Heterogeneous Data. In: Proceedings of the Workshop on Linked Data on the Web co-located with WWW, CEUR-WS, Aachen, Germany, 2014. URL: [https://ceur-ws.org/Vol-1184/ldow2014_paper_01.pdf](https://ceur-ws.org/Vol-1184/ldow2014_paper_01.pdf).\n",
    "\n",
    "<a name=\"7\">\\[7\\]</a> E. Iglesias, S. Jozashoori, D. Chaves-Fraga, D. Collarana, M.-E. Vidal. SDM-RDFizer: An RML Interpreter for the Efficient Creation of RDF Knowledge Graphs. In: CIKM ’20:Proceedings of the 29th ACM International Conference on Information & Knowledge Management, ACM, New York, NY, USA, 2020. DOI: [10.1145/3340531.3412881](https://doi.org/10.1145/3340531.3412881).\n",
    "\n",
    "<a name=\"8\">\\[8\\]</a> M. Figuera, P.D. Rohde, M.-E. Vidal. Trav-SHACL: Efficiently Validating Networks of SHACL Constraints. In: The Web Conference, ACM, New York, NY, USA, 2021. DOI: [10.1145/3442381.3449877](https://doi.org/10.1145/3442381.3449877).\n",
    "\n",
    "<a name=\"9\">\\[9\\]</a> P.D. Rohde. DeTrusty v0.11.3. 2023. DOI: [10.5281/zenodo.7871295](https://doi.org/10.5281/zenodo.7871295).\n",
    "\n",
    "<a name=\"10\">\\[10\\]</a> P.D. Rohde, E. Iglesias, M.-E. Vidal. SHACL-ACL: Access Control with SHACL. In: The Semantic Web: ESWC 2023 Satellite Events, Springer, Cham, 2023. DOI: [https://doi.org/10.1007/978-3-031-43458-7_4](https://doi.org/https://doi.org/10.1007/978-3-031-43458-7_4). Demo: [SDM-TIB/SHACL-ACL](https://github.com/SDM-TIB/SHACL-ACL)."
   ]
  }
 ],
 "metadata": {
  "kernelspec": {
   "display_name": "Python 3 (ipykernel)",
   "language": "python",
   "name": "python3"
  },
  "language_info": {
   "codemirror_mode": {
    "name": "ipython",
    "version": 3
   },
   "file_extension": ".py",
   "mimetype": "text/x-python",
   "name": "python",
   "nbconvert_exporter": "python",
   "pygments_lexer": "ipython3",
   "version": "3.10.12"
  }
 },
 "nbformat": 4,
 "nbformat_minor": 5
}
